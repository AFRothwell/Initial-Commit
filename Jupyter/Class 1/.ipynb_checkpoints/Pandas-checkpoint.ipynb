{
 "cells": [
  {
   "cell_type": "code",
   "execution_count": 1,
   "id": "fd0c9fa6",
   "metadata": {},
   "outputs": [],
   "source": [
    "import numpy as np\n",
    "import pandas as pd\n",
    "from pandas import Series, DataFrame"
   ]
  },
  {
   "cell_type": "markdown",
   "id": "c44d338f",
   "metadata": {},
   "source": [
    "## Panda Series\n",
    "An n-dimensional array. It can only store one data type at a time."
   ]
  },
  {
   "cell_type": "code",
   "execution_count": 2,
   "id": "fca621ec",
   "metadata": {},
   "outputs": [
    {
     "data": {
      "text/plain": [
       "0    10\n",
       "1    20\n",
       "2    30\n",
       "3    40\n",
       "4    50\n",
       "dtype: int64"
      ]
     },
     "execution_count": 2,
     "metadata": {},
     "output_type": "execute_result"
    }
   ],
   "source": [
    "x = pd.Series([10, 20, 30, 40, 50])\n",
    "x"
   ]
  },
  {
   "cell_type": "code",
   "execution_count": 3,
   "id": "23df0ed6",
   "metadata": {},
   "outputs": [
    {
     "data": {
      "text/plain": [
       "RangeIndex(start=0, stop=5, step=1)"
      ]
     },
     "execution_count": 3,
     "metadata": {},
     "output_type": "execute_result"
    }
   ],
   "source": [
    "x.index"
   ]
  },
  {
   "cell_type": "code",
   "execution_count": null,
   "id": "ced19fcb",
   "metadata": {},
   "outputs": [],
   "source": [
    "x.values"
   ]
  },
  {
   "cell_type": "markdown",
   "id": "41b3127c",
   "metadata": {},
   "source": [
    "## Creating a series from (two) lists"
   ]
  },
  {
   "cell_type": "code",
   "execution_count": 5,
   "id": "bc064ca0",
   "metadata": {},
   "outputs": [
    {
     "data": {
      "text/plain": [
       "Don      450\n",
       "Mike     650\n",
       "Edwin    870\n",
       "dtype: int64"
      ]
     },
     "execution_count": 5,
     "metadata": {},
     "output_type": "execute_result"
    }
   ],
   "source": [
    "data = [450, 650, 870]\n",
    "Sales = Series(data, index=['Don', 'Mike', 'Edwin'])\n",
    "Sales"
   ]
  },
  {
   "cell_type": "code",
   "execution_count": 6,
   "id": "2e321d40",
   "metadata": {},
   "outputs": [
    {
     "data": {
      "text/plain": [
       "pandas.core.series.Series"
      ]
     },
     "execution_count": 6,
     "metadata": {},
     "output_type": "execute_result"
    }
   ],
   "source": [
    "type(Sales)"
   ]
  },
  {
   "cell_type": "markdown",
   "id": "efc52cb6",
   "metadata": {},
   "source": [
    "### Accessing a series"
   ]
  },
  {
   "cell_type": "code",
   "execution_count": 7,
   "id": "af51dbdb",
   "metadata": {},
   "outputs": [
    {
     "data": {
      "text/plain": [
       "450"
      ]
     },
     "execution_count": 7,
     "metadata": {},
     "output_type": "execute_result"
    }
   ],
   "source": [
    "Sales['Don']"
   ]
  },
  {
   "cell_type": "code",
   "execution_count": 8,
   "id": "70c940a7",
   "metadata": {},
   "outputs": [
    {
     "data": {
      "text/plain": [
       "450"
      ]
     },
     "execution_count": 8,
     "metadata": {},
     "output_type": "execute_result"
    }
   ],
   "source": [
    "Sales[0]  # can't do this with dictionaries"
   ]
  },
  {
   "cell_type": "markdown",
   "id": "1d1ac6e9",
   "metadata": {},
   "source": [
    "### Conditions on series"
   ]
  },
  {
   "cell_type": "code",
   "execution_count": 9,
   "id": "8a12f5d3",
   "metadata": {},
   "outputs": [
    {
     "data": {
      "text/plain": [
       "Don      False\n",
       "Mike      True\n",
       "Edwin     True\n",
       "dtype: bool"
      ]
     },
     "execution_count": 9,
     "metadata": {},
     "output_type": "execute_result"
    }
   ],
   "source": [
    "Sales > 500  # permanently changed this series in the memory"
   ]
  },
  {
   "cell_type": "code",
   "execution_count": 10,
   "id": "ca1e00b7",
   "metadata": {},
   "outputs": [
    {
     "data": {
      "text/plain": [
       "Mike     650\n",
       "Edwin    870\n",
       "dtype: int64"
      ]
     },
     "execution_count": 10,
     "metadata": {},
     "output_type": "execute_result"
    }
   ],
   "source": [
    "Sales[[False, True, True]]  # just return the ones that are True"
   ]
  },
  {
   "cell_type": "code",
   "execution_count": 11,
   "id": "a272fe1a",
   "metadata": {},
   "outputs": [
    {
     "data": {
      "text/plain": [
       "True"
      ]
     },
     "execution_count": 11,
     "metadata": {},
     "output_type": "execute_result"
    }
   ],
   "source": [
    "'Don' in Sales  # doesn't work with values. Only keys."
   ]
  },
  {
   "cell_type": "markdown",
   "id": "ae180c1c",
   "metadata": {},
   "source": [
    "### Convert Series to Dictionary"
   ]
  },
  {
   "cell_type": "code",
   "execution_count": 12,
   "id": "841cb6ce",
   "metadata": {},
   "outputs": [
    {
     "data": {
      "text/plain": [
       "{'Don': 450, 'Mike': 650, 'Edwin': 870}"
      ]
     },
     "execution_count": 12,
     "metadata": {},
     "output_type": "execute_result"
    }
   ],
   "source": [
    "sales_dict = Sales.to_dict()\n",
    "sales_dict"
   ]
  },
  {
   "cell_type": "markdown",
   "id": "c962b1a0",
   "metadata": {},
   "source": [
    "### Convert Dictionary to Series"
   ]
  },
  {
   "cell_type": "code",
   "execution_count": 13,
   "id": "9490131b",
   "metadata": {},
   "outputs": [
    {
     "data": {
      "text/plain": [
       "Don      450\n",
       "Mike     650\n",
       "Edwin    870\n",
       "dtype: int64"
      ]
     },
     "execution_count": 13,
     "metadata": {},
     "output_type": "execute_result"
    }
   ],
   "source": [
    "sales_ser = Series(sales_dict)\n",
    "sales_ser"
   ]
  },
  {
   "cell_type": "markdown",
   "id": "a9508ec4",
   "metadata": {},
   "source": [
    "## Adding (Indexes) to a Series"
   ]
  },
  {
   "cell_type": "code",
   "execution_count": 15,
   "id": "1e39afed",
   "metadata": {},
   "outputs": [
    {
     "data": {
      "text/plain": [
       "Don      450.0\n",
       "Mike     650.0\n",
       "Sally      NaN\n",
       "Edwin    870.0\n",
       "Lucy       NaN\n",
       "dtype: float64"
      ]
     },
     "execution_count": 15,
     "metadata": {},
     "output_type": "execute_result"
    }
   ],
   "source": [
    "new_sales = Series(Sales, index=['Don', 'Mike', 'Sally', 'Edwin', 'Lucy'])\n",
    "new_sales"
   ]
  },
  {
   "cell_type": "markdown",
   "id": "aa32074c",
   "metadata": {},
   "source": [
    "### Is NaN? (Not a Number)"
   ]
  },
  {
   "cell_type": "code",
   "execution_count": 16,
   "id": "4dec9310",
   "metadata": {},
   "outputs": [
    {
     "data": {
      "text/plain": [
       "True"
      ]
     },
     "execution_count": 16,
     "metadata": {},
     "output_type": "execute_result"
    }
   ],
   "source": [
    "np.isnan(new_sales['Sally'])"
   ]
  },
  {
   "cell_type": "code",
   "execution_count": 17,
   "id": "28b0da4e",
   "metadata": {},
   "outputs": [
    {
     "data": {
      "text/plain": [
       "Don      False\n",
       "Mike     False\n",
       "Sally     True\n",
       "Edwin    False\n",
       "Lucy      True\n",
       "dtype: bool"
      ]
     },
     "execution_count": 17,
     "metadata": {},
     "output_type": "execute_result"
    }
   ],
   "source": [
    "np.isnan(new_sales)  # creates a boolean series"
   ]
  },
  {
   "cell_type": "markdown",
   "id": "dd2d6d19",
   "metadata": {},
   "source": [
    "### Name a (the index) \"Column\""
   ]
  },
  {
   "cell_type": "code",
   "execution_count": 18,
   "id": "a60d86a7",
   "metadata": {},
   "outputs": [],
   "source": [
    "Sales.index.name = \"Sales person\""
   ]
  },
  {
   "cell_type": "code",
   "execution_count": 19,
   "id": "91a4f460",
   "metadata": {},
   "outputs": [
    {
     "data": {
      "text/plain": [
       "Sales person\n",
       "Don      450\n",
       "Mike     650\n",
       "Edwin    870\n",
       "dtype: int64"
      ]
     },
     "execution_count": 19,
     "metadata": {},
     "output_type": "execute_result"
    }
   ],
   "source": [
    "Sales"
   ]
  },
  {
   "cell_type": "code",
   "execution_count": null,
   "id": "2766ad6d",
   "metadata": {},
   "outputs": [],
   "source": []
  }
 ],
 "metadata": {
  "kernelspec": {
   "display_name": "Python 3",
   "language": "python",
   "name": "python3"
  },
  "language_info": {
   "codemirror_mode": {
    "name": "ipython",
    "version": 3
   },
   "file_extension": ".py",
   "mimetype": "text/x-python",
   "name": "python",
   "nbconvert_exporter": "python",
   "pygments_lexer": "ipython3",
   "version": "3.7.10"
  }
 },
 "nbformat": 4,
 "nbformat_minor": 5
}
