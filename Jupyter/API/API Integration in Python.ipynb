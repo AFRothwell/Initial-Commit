{
 "cells": [
  {
   "cell_type": "code",
   "execution_count": null,
   "id": "1141c7fc",
   "metadata": {},
   "outputs": [],
   "source": [
    "# Talking REST"
   ]
  },
  {
   "cell_type": "code",
   "execution_count": null,
   "id": "ddc73a58",
   "metadata": {},
   "outputs": [],
   "source": [
    "# Let’s say you want to get a list of action items, via the GET /tasks/ endpoint:\n",
    "\n",
    "import requests\n",
    "\n",
    "# Using the get function from the requests module to perform an HTTP GET.\n",
    "resp = requests.get('https://todolist.example.com/tasks/')\n",
    "\n",
    "if resp.status_code != 200:\n",
    "    # This means something went wrong.\n",
    "    raise ApiError('GET /tasks/ {}'.format(resp.status_code))\n",
    "\n",
    "# The reponse object (instantiated class of the response module) is used \n",
    "# with method called \"json\" which transforms the response from the server\n",
    "# into a list of Python dictionaries.\n",
    "for todo_item in resp.json():\n",
    "    print('{} {}'.format(todo_item['id'], todo_item['summary']))\n",
    "    "
   ]
  },
  {
   "cell_type": "code",
   "execution_count": null,
   "id": "4beb29e8",
   "metadata": {},
   "outputs": [],
   "source": [
    "# Now suppose I want to create a new task: add something to my to-do list.\n",
    "\n",
    "task = {\"summary\": \"Take out trash\", \"description\": \"\" }\n",
    "\n",
    "# Using the post function from the requests module to perform an HTTP POST.\n",
    "resp = requests.post('https://todolist.example.com/tasks/', json=task)\n",
    "\n",
    "\n",
    "# 201 Created.\n",
    "# The request has succeeded and a new resource has been created as a result.\n",
    "# This is typically the response sent after POST requests, or some PUT requests.\n",
    "if resp.status_code != 201:\n",
    "    raise ApiError('POST /tasks/ {}'.format(resp.status_code))\n",
    "\n",
    "# The json method is used here again to format the reponse.\n",
    "print('Created task. ID: {}'.format(resp.json()[\"id\"]))\n"
   ]
  },
  {
   "cell_type": "code",
   "execution_count": null,
   "id": "105b0573",
   "metadata": {},
   "outputs": [],
   "source": [
    "# Constructing an API Library"
   ]
  },
  {
   "cell_type": "code",
   "execution_count": null,
   "id": "b6353f7a",
   "metadata": {},
   "outputs": [],
   "source": [
    "# It makes sense to construct a personal library if doing anymore than a few calls.\n",
    "# This section also applies to those looking to construct the API for a Web Service.\n",
    "\n",
    "# Plan an API library like any other script, based on what you want it to do. e.g.:"
   ]
  },
  {
   "cell_type": "code",
   "execution_count": null,
   "id": "dc164078",
   "metadata": {},
   "outputs": [],
   "source": [
    "\n",
    "# Planning \"todo.py\" using a list of necessary functionalities:\n",
    "\n",
    "# 1. We can get a summary list of tasks that need to be done.\n",
    "\n",
    "def get_tasks():\n",
    "    pass\n",
    "\n",
    "# 2. We can get much more detailed information about a specific task.\n",
    "\n",
    "def describe_task(task_id):\n",
    "    pass\n",
    "\n",
    "# 3. We can add a new task to our to-do list..\n",
    "\n",
    "def add_task(summary, description=\"\"):\n",
    "    pass\n",
    "\n",
    "# 4. We can mark a task as done.\n",
    "\n",
    "def task_done(task_id):\n",
    "    pass\n",
    "\n",
    "# 5.We can modify an existing task (changing its description, and so on).\n",
    "\n",
    "def update_task(task_id, summary, description):\n",
    "    pass\n"
   ]
  },
  {
   "cell_type": "code",
   "execution_count": null,
   "id": "317d2bb1",
   "metadata": {},
   "outputs": [],
   "source": [
    "# Then completing the functions them selves, as well as adding a URL helper that fills in the final section of the URL.\n",
    "\n",
    "def _url(path):\n",
    "    return 'https://todo.example.com' + path\n",
    "\n",
    "import requests\n",
    "\n",
    "def get_tasks():\n",
    "    return requests.get(_url('/tasks/'))\n",
    "\n",
    "def describe_task(task_id):\n",
    "    return requests.get(_url('/tasks/{:d}/'.format(task_id)))\n",
    "\n",
    "def add_task(summary, description=\"\"):\n",
    "    return requests.post(_url('/tasks/'), json={\n",
    "        'summary': summary,\n",
    "        'description': description,\n",
    "        })\n",
    "\n",
    "def task_done(task_id):\n",
    "    return requests.delete(_url('/tasks/{:d}/'.format(task_id)))\n",
    "\n",
    "def update_task(task_id, summary, description):\n",
    "    url = _url('/tasks/{:d}/'.format(task_id))\n",
    "    return requests.put(url, json={\n",
    "        'summary': summary,\n",
    "        'description': description,\n",
    "        })\n"
   ]
  },
  {
   "cell_type": "code",
   "execution_count": null,
   "id": "c40f544e",
   "metadata": {},
   "outputs": [],
   "source": [
    "import todo\n",
    "\n",
    "resp = todo.add_task(\"Take out trash\")\n",
    "if resp.status_code != 201:\n",
    "    raise ApiError('Cannot create task: {}'.format(resp.status_code))\n",
    "print('Created task. ID: {}'.format(resp.json()[\"id\"]))\n",
    "\n",
    "resp = todo.get_tasks()\n",
    "if resp.status_code != 200:\n",
    "    raise ApiError('Cannot fetch all tasks: {}'.format(resp.status_code))\n",
    "for todo_item in resp.json():\n",
    "    print('{} {}'.format(todo_item['id'], todo_item['summary']))"
   ]
  }
 ],
 "metadata": {
  "kernelspec": {
   "display_name": "Python 3",
   "language": "python",
   "name": "python3"
  },
  "language_info": {
   "codemirror_mode": {
    "name": "ipython",
    "version": 3
   },
   "file_extension": ".py",
   "mimetype": "text/x-python",
   "name": "python",
   "nbconvert_exporter": "python",
   "pygments_lexer": "ipython3",
   "version": "3.7.10"
  }
 },
 "nbformat": 4,
 "nbformat_minor": 5
}
